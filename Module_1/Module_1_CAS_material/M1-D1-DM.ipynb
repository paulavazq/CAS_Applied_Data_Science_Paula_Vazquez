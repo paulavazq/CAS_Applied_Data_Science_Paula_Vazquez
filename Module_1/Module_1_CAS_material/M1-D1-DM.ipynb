{
 "cells": [
  {
   "cell_type": "markdown",
   "metadata": {
    "colab_type": "text",
    "id": "view-in-github"
   },
   "source": [
    "<a href=\"https://colab.research.google.com/github/sigvehaug/CAS-Applied-Data-Science/blob/master/Module-1/M1-D1-DM.ipynb\" target=\"_parent\"><img src=\"https://colab.research.google.com/assets/colab-badge.svg\" alt=\"Open In Colab\"/></a>"
   ]
  },
  {
   "cell_type": "markdown",
   "metadata": {
    "id": "dOSMpeOK06p8"
   },
   "source": [
    "Notebook 1, Module 1, Data and Data Management, CAS Applied Data Science, 2021-08-23, S. Haug, University of Bern.\n"
   ]
  },
  {
   "cell_type": "markdown",
   "metadata": {
    "id": "ljJDZt-n6zPw"
   },
   "source": [
    "Prerequisite for this notebook is some basic Python experience.\n",
    "\n",
    "Please also look at the first batch of [these slides](https://docs.google.com/presentation/d/1BrlQQGDnEpr8lBiEd9uO-Kw2-WOInAEP-cv-xdUwB4Y/edit?usp=sharing) before doing this notebook. They offer an introduction to data."
   ]
  },
  {
   "cell_type": "markdown",
   "metadata": {
    "id": "OAVKazfU06p-"
   },
   "source": [
    "# 1. Data Management\n",
    "\n",
    "Estimated study time is up to 2 hours. According to your background and how much you want to learn, you may need more or less. You are supposed to google, read manuals and chat with others during working through this notebook in order to benefit fully.\n",
    "\n",
    "**Learning outcomes - after completion you**\n",
    "- Know about data sources, types and formats (see lecture slides via link above)\n",
    "- Able to import and export data in Python\n",
    "- Able to do simple things with dataframes in Python\n",
    "- Know about data volumes, metadata and quality\n",
    "- Able to plot histograms and scatter plots in Python (tomorrow)\n",
    "\n",
    "**Documentation on Pandas DataFrame**\n",
    "- Python: https://pandas.pydata.org/pandas-docs/stable/generated/pandas.DataFrame.html\n",
    "\n",
    "## Outline\n",
    "\n",
    "     0. About data management\n",
    "     1. Getting used to Jupyter lab\n",
    "     2. Import datasets into a Python dataframe\n",
    "     3. Indexing on a dataframe\n",
    "     4. Sorting\n",
    "     5. Filtering\n",
    "     6. Exporting\n",
    "     7. Missing and bad data\n",
    "     8. Metadata\n",
    "     9. Working on the filesystem\n"
   ]
  },
  {
   "cell_type": "markdown",
   "metadata": {
    "id": "b-86pc1PfWAT"
   },
   "source": []
  },
  {
   "cell_type": "code",
   "execution_count": null,
   "metadata": {
    "id": "P0o4Jxdy06qA"
   },
   "outputs": [],
   "source": []
  },
  {
   "cell_type": "markdown",
   "metadata": {
    "id": "0xY2gyiE06qA"
   },
   "source": [
    "### 0. About data management"
   ]
  },
  {
   "cell_type": "markdown",
   "metadata": {
    "id": "nFyhF-jp06qB"
   },
   "source": [
    "Handling or managing data involves many steps and technologies at many levels. Data my be colleccted by sensors. It can be a camera, a temperature sensor, a telescope, a microscope (with a camera), a microphone, a particle detector etc. Normally the data is then digitised, maybe preprocessed and written to some media in a certain format, e.g. hard disk. This part of the data management is normally taken care of by engineers.\n",
    "\n",
    "Data may also be collected from all sorts of databases, so data already collected somehow. Time series of financial data, customers, passengers, facebook likes, twitter tweets etc. This is data which is normally already on a media with some interface for access, e.g. paper to be read by a camera, a file on youtube, a table on wikipedia etc. We will look at some ways to collect such data. Some programming and computer skills are needed to do so. It may be that this part of the data management is taken care of by specialised computer scientists, but it may also be expected from a data scientist to have these skills.\n",
    "\n",
    "Analysing data with statisitical and machine learning tools, requires that the data is colleceted, cleaned and prepared for the tools. This is very often a very large part of a data analytics project and a prerequisite. It may involve removing bad data, filter out redundant and noisy data, unify the formats and types, transform the data etc.\n",
    "Thus, a data scientist must be able to perform this part of the data management. This notebook shows the basic operations with Python pandas. With other tools the concepts and operations are very similar.\n",
    "\n",
    "After the data analysis, after the extraction of information and the creation of knowledge, the data is often stored or archived for the future (if this seems cheaper than regenerating the data at a later point). In larger institutions this part of the data management may include educated librarians and others, not necessarily the data scientist.  \n",
    "\n",
    "**In this notebook we only look at a few examples on how to do datamanagement with dataframes. Pandas are extremly powerful and we cannot show everything in a couple of hours. You will become more and more experienced when you work on your module projects. Probably whatever you want to do with your dataframe, there is a way to do it. If not, it probably doesn't make much sense what wou want to do.**\n",
    "\n",
    "Any questions?\n"
   ]
  },
  {
   "cell_type": "markdown",
   "metadata": {
    "id": "z4HJ8cnp06qC"
   },
   "source": [
    "### 1. Getting used to Jupyter computational notebooks and Colab\n",
    "\n",
    "With Jupyter you can write rich text notebooks with executable code via your browser. There are several so-called kernels or computational back ends, i.e Python, R, Julia, bash etc can be supported. The text is written as Markdown. Latex is also supported (good for math). You can export the notebook in various formats, e.g. html. Everything can be done via the various tabs, however, the key shortcuts make you faster.\n",
    "\n",
    "*Useful key combinations*\n",
    "\n",
    "- Shift Enter or Control Enter = Run cell\n",
    "- Option Enter = Run cell and Insert new cell below\n",
    "\n",
    "*Exercises (10 min)*\n",
    "- Change and run this cell\n",
    "- Add a new cell and execute some python statement in it\n",
    "- Study the tabs in the menu of your jupyter (lab) notebook"
   ]
  },
  {
   "cell_type": "code",
   "execution_count": null,
   "metadata": {
    "id": "3tn_Bnh606qC"
   },
   "outputs": [],
   "source": [
    "# Write some more Python code here\n",
    "print('hello CAS')\n",
    "for i in range(10):\n",
    "    print('im counting:', i)"
   ]
  },
  {
   "cell_type": "markdown",
   "metadata": {
    "id": "9Yy0P4Q006qD"
   },
   "source": [
    "### 2. Import a dataset into a Pandas DataFrame\n",
    "\n",
    "Pandas is a Python Module/Library for data analysis and manipulation. It has the data structure DataFrame which is quite powerful. Features\n",
    "\n",
    "- DataFrame object for data manipulation with integrated indexing.\n",
    "- Tools for reading and writing data between in-memory data structures and different file formats.\n",
    "- Data alignment and integrated handling of missing data.\n",
    "- Reshaping and pivoting of data sets.\n",
    "- Label-based slicing, fancy indexing, and subsetting of large data sets.\n",
    "- Data structure column insertion and deletion.\n",
    "- Group by engine allowing split-apply-combine operations on data sets.\n",
    "- Data set merging and joining.\n",
    "- Hierarchical axis indexing to work with high-dimensional data in a lower-dimensional data structure.\n",
    "- Time series-functionality: Date range generation and frequency conversion, moving window statistics, moving window linear regressions, date shifting and lagging.\n",
    "\n",
    "The module is highly optimized for performance, with critical code parts written in Cython or C. Documentation here: https://pandas.pydata.org/pandas-docs/stable/api.html\n",
    "\n",
    "For input/output (I/O) there are methods for reading EXCEL, SQL databases, HTML tables, clipboard, SAS, STATA etc."
   ]
  },
  {
   "cell_type": "code",
   "execution_count": 3,
   "metadata": {
    "id": "2va7jftt06qF"
   },
   "outputs": [
    {
     "data": {
      "text/html": [
       "<div>\n",
       "<style scoped>\n",
       "    .dataframe tbody tr th:only-of-type {\n",
       "        vertical-align: middle;\n",
       "    }\n",
       "\n",
       "    .dataframe tbody tr th {\n",
       "        vertical-align: top;\n",
       "    }\n",
       "\n",
       "    .dataframe thead th {\n",
       "        text-align: right;\n",
       "    }\n",
       "</style>\n",
       "<table border=\"1\" class=\"dataframe\">\n",
       "  <thead>\n",
       "    <tr style=\"text-align: right;\">\n",
       "      <th></th>\n",
       "      <th>5.1</th>\n",
       "      <th>3.5</th>\n",
       "      <th>1.4</th>\n",
       "      <th>0.2</th>\n",
       "      <th>Iris-setosa</th>\n",
       "    </tr>\n",
       "  </thead>\n",
       "  <tbody>\n",
       "    <tr>\n",
       "      <th>0</th>\n",
       "      <td>4.9</td>\n",
       "      <td>3.0</td>\n",
       "      <td>1.4</td>\n",
       "      <td>0.2</td>\n",
       "      <td>Iris-setosa</td>\n",
       "    </tr>\n",
       "    <tr>\n",
       "      <th>1</th>\n",
       "      <td>4.7</td>\n",
       "      <td>3.2</td>\n",
       "      <td>1.3</td>\n",
       "      <td>0.2</td>\n",
       "      <td>Iris-setosa</td>\n",
       "    </tr>\n",
       "    <tr>\n",
       "      <th>2</th>\n",
       "      <td>4.6</td>\n",
       "      <td>3.1</td>\n",
       "      <td>1.5</td>\n",
       "      <td>0.2</td>\n",
       "      <td>Iris-setosa</td>\n",
       "    </tr>\n",
       "    <tr>\n",
       "      <th>3</th>\n",
       "      <td>5.0</td>\n",
       "      <td>3.6</td>\n",
       "      <td>1.4</td>\n",
       "      <td>0.2</td>\n",
       "      <td>Iris-setosa</td>\n",
       "    </tr>\n",
       "    <tr>\n",
       "      <th>4</th>\n",
       "      <td>5.4</td>\n",
       "      <td>3.9</td>\n",
       "      <td>1.7</td>\n",
       "      <td>0.4</td>\n",
       "      <td>Iris-setosa</td>\n",
       "    </tr>\n",
       "  </tbody>\n",
       "</table>\n",
       "</div>"
      ],
      "text/plain": [
       "   5.1  3.5  1.4  0.2  Iris-setosa\n",
       "0  4.9  3.0  1.4  0.2  Iris-setosa\n",
       "1  4.7  3.2  1.3  0.2  Iris-setosa\n",
       "2  4.6  3.1  1.5  0.2  Iris-setosa\n",
       "3  5.0  3.6  1.4  0.2  Iris-setosa\n",
       "4  5.4  3.9  1.7  0.4  Iris-setosa"
      ]
     },
     "execution_count": 3,
     "metadata": {},
     "output_type": "execute_result"
    }
   ],
   "source": [
    "# Upload the local data file to colab\n",
    "import numpy as np\n",
    "import pandas as pd\n",
    "iris = pd.read_csv(\"iris.csv\")\n",
    "iris.head()"
   ]
  },
  {
   "cell_type": "code",
   "execution_count": 8,
   "metadata": {
    "id": "Fcu5tlR106qG"
   },
   "outputs": [
    {
     "data": {
      "text/html": [
       "<div>\n",
       "<style scoped>\n",
       "    .dataframe tbody tr th:only-of-type {\n",
       "        vertical-align: middle;\n",
       "    }\n",
       "\n",
       "    .dataframe tbody tr th {\n",
       "        vertical-align: top;\n",
       "    }\n",
       "\n",
       "    .dataframe thead th {\n",
       "        text-align: right;\n",
       "    }\n",
       "</style>\n",
       "<table border=\"1\" class=\"dataframe\">\n",
       "  <thead>\n",
       "    <tr style=\"text-align: right;\">\n",
       "      <th></th>\n",
       "      <th>5.1</th>\n",
       "      <th>3.5</th>\n",
       "      <th>1.4</th>\n",
       "      <th>0.2</th>\n",
       "      <th>Iris-setosa</th>\n",
       "    </tr>\n",
       "  </thead>\n",
       "  <tbody>\n",
       "    <tr>\n",
       "      <th>0</th>\n",
       "      <td>4.9</td>\n",
       "      <td>3.0</td>\n",
       "      <td>1.4</td>\n",
       "      <td>0.2</td>\n",
       "      <td>Iris-setosa</td>\n",
       "    </tr>\n",
       "    <tr>\n",
       "      <th>1</th>\n",
       "      <td>4.7</td>\n",
       "      <td>3.2</td>\n",
       "      <td>1.3</td>\n",
       "      <td>0.2</td>\n",
       "      <td>Iris-setosa</td>\n",
       "    </tr>\n",
       "    <tr>\n",
       "      <th>2</th>\n",
       "      <td>4.6</td>\n",
       "      <td>3.1</td>\n",
       "      <td>1.5</td>\n",
       "      <td>0.2</td>\n",
       "      <td>Iris-setosa</td>\n",
       "    </tr>\n",
       "    <tr>\n",
       "      <th>3</th>\n",
       "      <td>5.0</td>\n",
       "      <td>3.6</td>\n",
       "      <td>1.4</td>\n",
       "      <td>0.2</td>\n",
       "      <td>Iris-setosa</td>\n",
       "    </tr>\n",
       "    <tr>\n",
       "      <th>4</th>\n",
       "      <td>5.4</td>\n",
       "      <td>3.9</td>\n",
       "      <td>1.7</td>\n",
       "      <td>0.4</td>\n",
       "      <td>Iris-setosa</td>\n",
       "    </tr>\n",
       "    <tr>\n",
       "      <th>5</th>\n",
       "      <td>4.6</td>\n",
       "      <td>3.4</td>\n",
       "      <td>1.4</td>\n",
       "      <td>0.3</td>\n",
       "      <td>Iris-setosa</td>\n",
       "    </tr>\n",
       "    <tr>\n",
       "      <th>6</th>\n",
       "      <td>5.0</td>\n",
       "      <td>3.4</td>\n",
       "      <td>1.5</td>\n",
       "      <td>0.2</td>\n",
       "      <td>Iris-setosa</td>\n",
       "    </tr>\n",
       "    <tr>\n",
       "      <th>7</th>\n",
       "      <td>4.4</td>\n",
       "      <td>2.9</td>\n",
       "      <td>1.4</td>\n",
       "      <td>0.2</td>\n",
       "      <td>Iris-setosa</td>\n",
       "    </tr>\n",
       "    <tr>\n",
       "      <th>8</th>\n",
       "      <td>4.9</td>\n",
       "      <td>3.1</td>\n",
       "      <td>1.5</td>\n",
       "      <td>0.1</td>\n",
       "      <td>Iris-setosa</td>\n",
       "    </tr>\n",
       "    <tr>\n",
       "      <th>9</th>\n",
       "      <td>5.4</td>\n",
       "      <td>3.7</td>\n",
       "      <td>1.5</td>\n",
       "      <td>0.2</td>\n",
       "      <td>Iris-setosa</td>\n",
       "    </tr>\n",
       "    <tr>\n",
       "      <th>10</th>\n",
       "      <td>4.8</td>\n",
       "      <td>3.4</td>\n",
       "      <td>1.6</td>\n",
       "      <td>0.2</td>\n",
       "      <td>Iris-setosa</td>\n",
       "    </tr>\n",
       "    <tr>\n",
       "      <th>11</th>\n",
       "      <td>4.8</td>\n",
       "      <td>3.0</td>\n",
       "      <td>1.4</td>\n",
       "      <td>0.1</td>\n",
       "      <td>Iris-setosa</td>\n",
       "    </tr>\n",
       "    <tr>\n",
       "      <th>12</th>\n",
       "      <td>4.3</td>\n",
       "      <td>3.0</td>\n",
       "      <td>1.1</td>\n",
       "      <td>0.1</td>\n",
       "      <td>Iris-setosa</td>\n",
       "    </tr>\n",
       "    <tr>\n",
       "      <th>13</th>\n",
       "      <td>5.8</td>\n",
       "      <td>4.0</td>\n",
       "      <td>1.2</td>\n",
       "      <td>0.2</td>\n",
       "      <td>Iris-setosa</td>\n",
       "    </tr>\n",
       "    <tr>\n",
       "      <th>14</th>\n",
       "      <td>5.7</td>\n",
       "      <td>4.4</td>\n",
       "      <td>1.5</td>\n",
       "      <td>0.4</td>\n",
       "      <td>Iris-setosa</td>\n",
       "    </tr>\n",
       "    <tr>\n",
       "      <th>15</th>\n",
       "      <td>5.4</td>\n",
       "      <td>3.9</td>\n",
       "      <td>1.3</td>\n",
       "      <td>0.4</td>\n",
       "      <td>Iris-setosa</td>\n",
       "    </tr>\n",
       "    <tr>\n",
       "      <th>16</th>\n",
       "      <td>5.1</td>\n",
       "      <td>3.5</td>\n",
       "      <td>1.4</td>\n",
       "      <td>0.3</td>\n",
       "      <td>Iris-setosa</td>\n",
       "    </tr>\n",
       "    <tr>\n",
       "      <th>17</th>\n",
       "      <td>5.7</td>\n",
       "      <td>3.8</td>\n",
       "      <td>1.7</td>\n",
       "      <td>0.3</td>\n",
       "      <td>Iris-setosa</td>\n",
       "    </tr>\n",
       "    <tr>\n",
       "      <th>18</th>\n",
       "      <td>5.1</td>\n",
       "      <td>3.8</td>\n",
       "      <td>1.5</td>\n",
       "      <td>0.3</td>\n",
       "      <td>Iris-setosa</td>\n",
       "    </tr>\n",
       "    <tr>\n",
       "      <th>19</th>\n",
       "      <td>5.4</td>\n",
       "      <td>3.4</td>\n",
       "      <td>1.7</td>\n",
       "      <td>0.2</td>\n",
       "      <td>Iris-setosa</td>\n",
       "    </tr>\n",
       "  </tbody>\n",
       "</table>\n",
       "</div>"
      ],
      "text/plain": [
       "    5.1  3.5  1.4  0.2  Iris-setosa\n",
       "0   4.9  3.0  1.4  0.2  Iris-setosa\n",
       "1   4.7  3.2  1.3  0.2  Iris-setosa\n",
       "2   4.6  3.1  1.5  0.2  Iris-setosa\n",
       "3   5.0  3.6  1.4  0.2  Iris-setosa\n",
       "4   5.4  3.9  1.7  0.4  Iris-setosa\n",
       "5   4.6  3.4  1.4  0.3  Iris-setosa\n",
       "6   5.0  3.4  1.5  0.2  Iris-setosa\n",
       "7   4.4  2.9  1.4  0.2  Iris-setosa\n",
       "8   4.9  3.1  1.5  0.1  Iris-setosa\n",
       "9   5.4  3.7  1.5  0.2  Iris-setosa\n",
       "10  4.8  3.4  1.6  0.2  Iris-setosa\n",
       "11  4.8  3.0  1.4  0.1  Iris-setosa\n",
       "12  4.3  3.0  1.1  0.1  Iris-setosa\n",
       "13  5.8  4.0  1.2  0.2  Iris-setosa\n",
       "14  5.7  4.4  1.5  0.4  Iris-setosa\n",
       "15  5.4  3.9  1.3  0.4  Iris-setosa\n",
       "16  5.1  3.5  1.4  0.3  Iris-setosa\n",
       "17  5.7  3.8  1.7  0.3  Iris-setosa\n",
       "18  5.1  3.8  1.5  0.3  Iris-setosa\n",
       "19  5.4  3.4  1.7  0.2  Iris-setosa"
      ]
     },
     "execution_count": 8,
     "metadata": {},
     "output_type": "execute_result"
    }
   ],
   "source": [
    "iris.tail()\n",
    "iris.head(20)"
   ]
  },
  {
   "cell_type": "markdown",
   "metadata": {
    "id": "OKvS45Aq06qH"
   },
   "source": [
    "The dataframe method shows 50 rows per default. We can change this as we like:\n"
   ]
  },
  {
   "cell_type": "code",
   "execution_count": 6,
   "metadata": {
    "id": "odf02zpP06qI"
   },
   "outputs": [
    {
     "name": "stdout",
     "output_type": "stream",
     "text": [
      "     5.1  3.5  1.4  0.2     Iris-setosa\n",
      "0    4.9  3.0  1.4  0.2     Iris-setosa\n",
      "1    4.7  3.2  1.3  0.2     Iris-setosa\n",
      "2    4.6  3.1  1.5  0.2     Iris-setosa\n",
      "3    5.0  3.6  1.4  0.2     Iris-setosa\n",
      "4    5.4  3.9  1.7  0.4     Iris-setosa\n",
      "..   ...  ...  ...  ...             ...\n",
      "144  6.7  3.0  5.2  2.3  Iris-virginica\n",
      "145  6.3  2.5  5.0  1.9  Iris-virginica\n",
      "146  6.5  3.0  5.2  2.0  Iris-virginica\n",
      "147  6.2  3.4  5.4  2.3  Iris-virginica\n",
      "148  5.9  3.0  5.1  1.8  Iris-virginica\n",
      "\n",
      "[149 rows x 5 columns]\n"
     ]
    }
   ],
   "source": [
    "print(iris)"
   ]
  },
  {
   "cell_type": "code",
   "execution_count": null,
   "metadata": {
    "id": "sfWe0grO06qJ"
   },
   "outputs": [],
   "source": []
  },
  {
   "cell_type": "code",
   "execution_count": null,
   "metadata": {
    "id": "bVjX2_Iy06qK"
   },
   "outputs": [],
   "source": []
  },
  {
   "cell_type": "markdown",
   "metadata": {
    "id": "hNySrhxP06qK"
   },
   "source": [
    "Find out on wikipedia what this Iris data is about."
   ]
  },
  {
   "cell_type": "markdown",
   "metadata": {
    "id": "vwEVzhfl06qK"
   },
   "source": [
    "### Hint\n",
    "\n",
    "There are some ways to get help about modules and methods in Jupyter:"
   ]
  },
  {
   "cell_type": "code",
   "execution_count": null,
   "metadata": {
    "colab": {
     "base_uri": "https://localhost:8080/",
     "height": 132
    },
    "id": "umgUyQ4i06qL",
    "outputId": "36a41ea5-850e-41cc-ae14-e6a01e1354c1"
   },
   "outputs": [
    {
     "ename": "SyntaxError",
     "evalue": "ignored",
     "output_type": "error",
     "traceback": [
      "\u001b[0;36m  File \u001b[0;32m\"<ipython-input-110-b42447b352cc>\"\u001b[0;36m, line \u001b[0;32m1\u001b[0m\n\u001b[0;31m    dataframe. #(tab completion - type tab after the dot to see all methods)\u001b[0m\n\u001b[0m                                                                            ^\u001b[0m\n\u001b[0;31mSyntaxError\u001b[0m\u001b[0;31m:\u001b[0m invalid syntax\n"
     ]
    }
   ],
   "source": []
  },
  {
   "cell_type": "markdown",
   "metadata": {
    "id": "YCAPpVAq06qL"
   },
   "source": [
    "Get help about this object, if there is any:"
   ]
  },
  {
   "cell_type": "code",
   "execution_count": null,
   "metadata": {
    "id": "ZctEUABs06qL"
   },
   "outputs": [],
   "source": []
  },
  {
   "cell_type": "markdown",
   "metadata": {
    "id": "_5pTPqZA06qM"
   },
   "source": [
    "And, what you will probably use the most, the online package information and examples by googling."
   ]
  },
  {
   "cell_type": "markdown",
   "metadata": {
    "id": "Dp-beMVD06qM"
   },
   "source": [
    "### Exercise 1.1 (10 min)\n",
    "\n",
    "Read the Swiss BAG Corona data on vaccinated persons into a dataframe and look at it. The URL is\n",
    "https://opendata.swiss/en/dataset/covid-19-schweiz\n",
    "\n",
    "You will probably need to consult https://pandas.pydata.org/docs/reference/io.html in order to find out how to read a json file into a pandas dataframe."
   ]
  },
  {
   "cell_type": "code",
   "execution_count": 10,
   "metadata": {
    "id": "bjGxXL8k06qM"
   },
   "outputs": [],
   "source": [
    "# Write your code here\n",
    "import json"
   ]
  },
  {
   "cell_type": "code",
   "execution_count": 16,
   "metadata": {
    "id": "dIR8YyDP06qM"
   },
   "outputs": [
    {
     "data": {
      "text/html": [
       "<div>\n",
       "<style scoped>\n",
       "    .dataframe tbody tr th:only-of-type {\n",
       "        vertical-align: middle;\n",
       "    }\n",
       "\n",
       "    .dataframe tbody tr th {\n",
       "        vertical-align: top;\n",
       "    }\n",
       "\n",
       "    .dataframe thead th {\n",
       "        text-align: right;\n",
       "    }\n",
       "</style>\n",
       "<table border=\"1\" class=\"dataframe\">\n",
       "  <thead>\n",
       "    <tr style=\"text-align: right;\">\n",
       "      <th></th>\n",
       "      <th>date</th>\n",
       "      <th>geoRegion</th>\n",
       "      <th>vaccine</th>\n",
       "      <th>entries</th>\n",
       "      <th>type_variant</th>\n",
       "      <th>pop</th>\n",
       "      <th>sumTotal</th>\n",
       "      <th>per100Persons</th>\n",
       "      <th>per100Persons_mean7d</th>\n",
       "      <th>per100PersonsTotal</th>\n",
       "      <th>mean7d</th>\n",
       "      <th>type</th>\n",
       "      <th>version</th>\n",
       "      <th>granularity</th>\n",
       "    </tr>\n",
       "  </thead>\n",
       "  <tbody>\n",
       "    <tr>\n",
       "      <th>0</th>\n",
       "      <td>2020-12-22</td>\n",
       "      <td>AG</td>\n",
       "      <td>johnson_johnson</td>\n",
       "      <td>0</td>\n",
       "      <td>vaccine</td>\n",
       "      <td>703086.0</td>\n",
       "      <td>0</td>\n",
       "      <td>0.0</td>\n",
       "      <td>NaN</td>\n",
       "      <td>0.0</td>\n",
       "      <td>NaN</td>\n",
       "      <td>COVID19AtLeastOneDosePersons</td>\n",
       "      <td>2023-05-02_05-00-10</td>\n",
       "      <td>detailed</td>\n",
       "    </tr>\n",
       "    <tr>\n",
       "      <th>1</th>\n",
       "      <td>2020-12-23</td>\n",
       "      <td>AG</td>\n",
       "      <td>johnson_johnson</td>\n",
       "      <td>0</td>\n",
       "      <td>vaccine</td>\n",
       "      <td>703086.0</td>\n",
       "      <td>0</td>\n",
       "      <td>0.0</td>\n",
       "      <td>NaN</td>\n",
       "      <td>0.0</td>\n",
       "      <td>NaN</td>\n",
       "      <td>COVID19AtLeastOneDosePersons</td>\n",
       "      <td>2023-05-02_05-00-10</td>\n",
       "      <td>detailed</td>\n",
       "    </tr>\n",
       "    <tr>\n",
       "      <th>2</th>\n",
       "      <td>2020-12-24</td>\n",
       "      <td>AG</td>\n",
       "      <td>johnson_johnson</td>\n",
       "      <td>0</td>\n",
       "      <td>vaccine</td>\n",
       "      <td>703086.0</td>\n",
       "      <td>0</td>\n",
       "      <td>0.0</td>\n",
       "      <td>NaN</td>\n",
       "      <td>0.0</td>\n",
       "      <td>NaN</td>\n",
       "      <td>COVID19AtLeastOneDosePersons</td>\n",
       "      <td>2023-05-02_05-00-10</td>\n",
       "      <td>detailed</td>\n",
       "    </tr>\n",
       "    <tr>\n",
       "      <th>3</th>\n",
       "      <td>2020-12-25</td>\n",
       "      <td>AG</td>\n",
       "      <td>johnson_johnson</td>\n",
       "      <td>0</td>\n",
       "      <td>vaccine</td>\n",
       "      <td>703086.0</td>\n",
       "      <td>0</td>\n",
       "      <td>0.0</td>\n",
       "      <td>0.0</td>\n",
       "      <td>0.0</td>\n",
       "      <td>0.0</td>\n",
       "      <td>COVID19AtLeastOneDosePersons</td>\n",
       "      <td>2023-05-02_05-00-10</td>\n",
       "      <td>detailed</td>\n",
       "    </tr>\n",
       "    <tr>\n",
       "      <th>4</th>\n",
       "      <td>2020-12-26</td>\n",
       "      <td>AG</td>\n",
       "      <td>johnson_johnson</td>\n",
       "      <td>0</td>\n",
       "      <td>vaccine</td>\n",
       "      <td>703086.0</td>\n",
       "      <td>0</td>\n",
       "      <td>0.0</td>\n",
       "      <td>0.0</td>\n",
       "      <td>0.0</td>\n",
       "      <td>0.0</td>\n",
       "      <td>COVID19AtLeastOneDosePersons</td>\n",
       "      <td>2023-05-02_05-00-10</td>\n",
       "      <td>detailed</td>\n",
       "    </tr>\n",
       "  </tbody>\n",
       "</table>\n",
       "</div>"
      ],
      "text/plain": [
       "         date geoRegion          vaccine  entries type_variant       pop  \\\n",
       "0  2020-12-22        AG  johnson_johnson        0      vaccine  703086.0   \n",
       "1  2020-12-23        AG  johnson_johnson        0      vaccine  703086.0   \n",
       "2  2020-12-24        AG  johnson_johnson        0      vaccine  703086.0   \n",
       "3  2020-12-25        AG  johnson_johnson        0      vaccine  703086.0   \n",
       "4  2020-12-26        AG  johnson_johnson        0      vaccine  703086.0   \n",
       "\n",
       "   sumTotal  per100Persons  per100Persons_mean7d  per100PersonsTotal  mean7d  \\\n",
       "0         0            0.0                   NaN                 0.0     NaN   \n",
       "1         0            0.0                   NaN                 0.0     NaN   \n",
       "2         0            0.0                   NaN                 0.0     NaN   \n",
       "3         0            0.0                   0.0                 0.0     0.0   \n",
       "4         0            0.0                   0.0                 0.0     0.0   \n",
       "\n",
       "                           type              version granularity  \n",
       "0  COVID19AtLeastOneDosePersons  2023-05-02_05-00-10    detailed  \n",
       "1  COVID19AtLeastOneDosePersons  2023-05-02_05-00-10    detailed  \n",
       "2  COVID19AtLeastOneDosePersons  2023-05-02_05-00-10    detailed  \n",
       "3  COVID19AtLeastOneDosePersons  2023-05-02_05-00-10    detailed  \n",
       "4  COVID19AtLeastOneDosePersons  2023-05-02_05-00-10    detailed  "
      ]
     },
     "execution_count": 16,
     "metadata": {},
     "output_type": "execute_result"
    }
   ],
   "source": [
    "#with open('https://www.covid19.admin.ch/api/data/20230822-bekg7ks3/sources/COVID19VaccPersons_vaccine.json', 'r') as f:\n",
    "  #data = json.load(f)\n",
    "\n",
    "\n",
    "data_covid =pd.read_csv(\"COVID19VaccPersons_vaccine.csv\")\n",
    "data_covid.head()"
   ]
  },
  {
   "cell_type": "markdown",
   "metadata": {
    "id": "xCI7ub-706qN"
   },
   "source": [
    "### 3. Indexing on a DataFrame\n",
    "\n",
    "By methods (we are back to our Iris dataset):"
   ]
  },
  {
   "cell_type": "code",
   "execution_count": null,
   "metadata": {
    "id": "R0sDmvr006qN"
   },
   "outputs": [],
   "source": []
  },
  {
   "cell_type": "code",
   "execution_count": null,
   "metadata": {
    "id": "HglpOox106qN"
   },
   "outputs": [],
   "source": []
  },
  {
   "cell_type": "markdown",
   "metadata": {
    "id": "jf6gF3jr06qN"
   },
   "source": [
    "Indexing a group/subset of the dataframe"
   ]
  },
  {
   "cell_type": "code",
   "execution_count": null,
   "metadata": {
    "id": "CvKPHzP106qO"
   },
   "outputs": [],
   "source": []
  },
  {
   "cell_type": "markdown",
   "metadata": {
    "id": "8holfyZd06qO"
   },
   "source": [
    "**Important**\n",
    "When you assign a (subset) of dataframe to a new one like above, no copy is made. This means that if you change values of the new frame, also the orginal frame will be changed. If you want a copy, you need to use the copy method."
   ]
  },
  {
   "cell_type": "markdown",
   "metadata": {
    "id": "9n8pa6UH06qO"
   },
   "source": [
    "Indexing by column names..."
   ]
  },
  {
   "cell_type": "code",
   "execution_count": null,
   "metadata": {
    "id": "ZapUeo_x06qO"
   },
   "outputs": [],
   "source": []
  },
  {
   "cell_type": "markdown",
   "metadata": {
    "id": "R0Sqgdk106qP"
   },
   "source": [
    "Selecting (filtering) by column valuess_df = dataframe[dataframe['species']=='Iris-setosa']"
   ]
  },
  {
   "cell_type": "code",
   "execution_count": null,
   "metadata": {
    "id": "BPqUoUYR06qP"
   },
   "outputs": [],
   "source": []
  },
  {
   "cell_type": "code",
   "execution_count": null,
   "metadata": {
    "id": "cp2J-Y0E06qP"
   },
   "outputs": [],
   "source": []
  },
  {
   "cell_type": "markdown",
   "metadata": {
    "id": "IO6qtwYH06qP"
   },
   "source": [
    "Vectorized dataframe manipulations..."
   ]
  },
  {
   "cell_type": "code",
   "execution_count": null,
   "metadata": {
    "id": "3dN1twE406qP"
   },
   "outputs": [],
   "source": []
  },
  {
   "cell_type": "markdown",
   "metadata": {
    "id": "peiXnTgAxw08"
   },
   "source": [
    "Grouping ..."
   ]
  },
  {
   "cell_type": "code",
   "execution_count": null,
   "metadata": {
    "id": "SPJDgpc006qP"
   },
   "outputs": [],
   "source": []
  },
  {
   "cell_type": "markdown",
   "metadata": {
    "id": "NkS6YD7V06qQ"
   },
   "source": [
    "### 4. Sorting on a DataFrame\n",
    "\n",
    "..."
   ]
  },
  {
   "cell_type": "code",
   "execution_count": null,
   "metadata": {
    "id": "d1hGqMMk06qQ"
   },
   "outputs": [],
   "source": []
  },
  {
   "cell_type": "code",
   "execution_count": null,
   "metadata": {
    "id": "ghnoA6O306qQ"
   },
   "outputs": [],
   "source": [
    "\n"
   ]
  },
  {
   "cell_type": "markdown",
   "metadata": {
    "id": "2xGm6-8W06qQ"
   },
   "source": [
    "You may measure the time needed for the execution, e.g. with the operating system command \"time\". System commands are executed with a %:"
   ]
  },
  {
   "cell_type": "code",
   "execution_count": null,
   "metadata": {
    "id": "PyaC-Aj006qQ"
   },
   "outputs": [],
   "source": []
  },
  {
   "cell_type": "code",
   "execution_count": null,
   "metadata": {
    "id": "IbQ1Wuqc06qQ"
   },
   "outputs": [],
   "source": [
    "s"
   ]
  },
  {
   "cell_type": "markdown",
   "metadata": {
    "id": "d6I2Xd1d06qQ"
   },
   "source": [
    "### 5. Filtering on a DataFrame\n",
    "..."
   ]
  },
  {
   "cell_type": "code",
   "execution_count": null,
   "metadata": {
    "id": "XYCwukeI06qR"
   },
   "outputs": [],
   "source": []
  },
  {
   "cell_type": "code",
   "execution_count": null,
   "metadata": {
    "id": "qjnWw_T406qR"
   },
   "outputs": [],
   "source": [
    "# We can assign the filtering result to a new dataframe\n"
   ]
  },
  {
   "cell_type": "code",
   "execution_count": null,
   "metadata": {
    "id": "6Widtyr806qR"
   },
   "outputs": [],
   "source": [
    "# And print it\n"
   ]
  },
  {
   "cell_type": "markdown",
   "metadata": {
    "id": "Rg_y8Ift06qR"
   },
   "source": [
    "### 6. Missing or bad data\n",
    "\n",
    "Datasets, in particular before they are \"cleaned\", may contain missing or wrongly formated values. There are DataFrame methods to deal with this:\n",
    "\n",
    "- DataFrame.dropna([axis, how, thresh, …])\tRemove missing values.\n",
    "- DataFrame.fillna([value, method, axis, …])\tFill NA/NaN values using the specified method\n",
    "- DataFrame.replace([to_replace, value, …])\tReplace values given in to_replace with value.\n",
    "- DataFrame.interpolate([method, axis, limit, …])\tInterpolate values according to different methods.\n",
    "\n",
    "Retrieving and cleaning data is often the most time consuming part in a data science project."
   ]
  },
  {
   "cell_type": "markdown",
   "metadata": {
    "id": "HN7OXDjJ06qR"
   },
   "source": [
    "### 7. Exporting dataframes\n",
    "\n",
    "DataFrame has several export methods. (html, hdf5, ascii, excel etc). Let's write our file to a text file in a csv format."
   ]
  },
  {
   "cell_type": "code",
   "execution_count": null,
   "metadata": {
    "id": "yhxN8bF_06qR"
   },
   "outputs": [],
   "source": []
  },
  {
   "cell_type": "code",
   "execution_count": null,
   "metadata": {
    "id": "b-27C7Vz06qR"
   },
   "outputs": [],
   "source": []
  },
  {
   "cell_type": "markdown",
   "metadata": {
    "id": "Z-Y9fLm6YYlH"
   },
   "source": [
    "What happens with our files when we close our colab session?"
   ]
  },
  {
   "cell_type": "markdown",
   "metadata": {
    "id": "Q1No9Vhr06qS"
   },
   "source": [
    "### 8. Metadata\n",
    "\n",
    "\n",
    "Metadata is data about the data, e.g. when was it collected, under which conditions, calibration etc.\n",
    "Metadata is normally not part of the statistical data analysis, however, needed for understanding and reproducibilty.\n",
    "\n",
    "DataFrame is not really made for storing metadata (should be done separately), but one can add new attributes to a dataframe:\n"
   ]
  },
  {
   "cell_type": "code",
   "execution_count": null,
   "metadata": {
    "id": "HQ7Q2lT306qS"
   },
   "outputs": [],
   "source": [
    "\n"
   ]
  },
  {
   "cell_type": "markdown",
   "metadata": {
    "id": "ZpLXCrvn06qS"
   },
   "source": [
    "### Exercise 2\n",
    "\n",
    "Write down here some minimal metadata about the Iris dataset:\n",
    "\n",
    "-\n",
    "-\n",
    "-\n",
    "Summary: everything needed for reproduction\n",
    "\n",
    "(the \"dimensions of a numpy table or dataframe is often called the shape). 150x5x3"
   ]
  },
  {
   "cell_type": "markdown",
   "metadata": {
    "id": "gm5NcJsD06qS"
   },
   "source": [
    "### 9. Working on the filesystem with the os module\n",
    "\n",
    "When managing large datasets, one often has to organise files in the file system. This includes finding them, moving and copying them, creating new folders/directories, renaming them etc. This can easily be done from Python with the os (operating system) module.\n",
    "\n",
    "Try to understand the following code and alter it to do something else."
   ]
  },
  {
   "cell_type": "code",
   "execution_count": null,
   "metadata": {
    "id": "8Td_AnJg06qS"
   },
   "outputs": [],
   "source": [
    "import os\n",
    "\n",
    "new_dir = os.getcwd() +'/newnbdir' # Get the current directory into a string, add /newnbdir to the string\n",
    "os.makedirs(new_dir) # Create the folder\n",
    "files = os.listdir() # List the files in the current folder\n",
    "nb_files = [] # Create an empty list\n",
    "for file in files:\n",
    "    if 'ipynb' in file and file[0]!='.':\n",
    "        nb_files.append(file)\n",
    "for file in nb_files:\n",
    "    os.system('cp '+file+' '+new_dir+'/')"
   ]
  },
  {
   "cell_type": "code",
   "execution_count": null,
   "metadata": {
    "id": "D0mwR_jFZsbk"
   },
   "outputs": [],
   "source": [
    "!ls -l newnbdir"
   ]
  },
  {
   "cell_type": "markdown",
   "metadata": {
    "id": "aCEPcsaf06qS"
   },
   "source": [
    "### Exercise 3\n",
    "\n",
    "Read in the iris dataset from iris.csv into a dataframe. Set the values in column 1 in row 39, 49 and 100 to NaN (use the nan method from the numpy package). Then replacethe NaN values to the average value of the respective column. Depending on how you do it, this may be about 10 lines of Python code."
   ]
  },
  {
   "cell_type": "code",
   "execution_count": null,
   "metadata": {
    "id": "X9VczUOG06qS"
   },
   "outputs": [],
   "source": [
    "# Solve your exercise here\n"
   ]
  },
  {
   "cell_type": "markdown",
   "metadata": {
    "id": "8MZXt0ei06qT"
   },
   "source": [
    "### Exercise 4\n",
    "\n",
    "Print a sorted list of the weeks and the male deadths with COVID-19 in Switzerland. The weeks with the highest numbers should appear first. This should be doable with about 10 lines of Python. You may need 30 minutes to solve this one.\n"
   ]
  },
  {
   "cell_type": "code",
   "execution_count": null,
   "metadata": {
    "id": "7UPCsexM06qT"
   },
   "outputs": [],
   "source": [
    "\n"
   ]
  },
  {
   "cell_type": "code",
   "execution_count": null,
   "metadata": {
    "id": "0G9RWCiH3DLC"
   },
   "outputs": [],
   "source": []
  },
  {
   "cell_type": "markdown",
   "metadata": {
    "id": "1yOZYAHG06qT"
   },
   "source": [
    "# End of today - remember to fill the mandatory form\n",
    "\n",
    "Everyone has to fill this form by 10 pm : https://forms.gle/bzDpGLUieVnheZUi6.\n",
    "Have a nice evening and see you tomorrow."
   ]
  },
  {
   "cell_type": "code",
   "execution_count": null,
   "metadata": {
    "id": "wvGsChGa06qT"
   },
   "outputs": [],
   "source": []
  },
  {
   "cell_type": "code",
   "execution_count": null,
   "metadata": {
    "id": "vPndicDx06qT"
   },
   "outputs": [],
   "source": []
  }
 ],
 "metadata": {
  "colab": {
   "include_colab_link": true,
   "name": "M1-D1-DM.ipynb",
   "provenance": [],
   "toc_visible": true
  },
  "kernelspec": {
   "display_name": "Python 3 (ipykernel)",
   "language": "python",
   "name": "python3"
  },
  "language_info": {
   "codemirror_mode": {
    "name": "ipython",
    "version": 3
   },
   "file_extension": ".py",
   "mimetype": "text/x-python",
   "name": "python",
   "nbconvert_exporter": "python",
   "pygments_lexer": "ipython3",
   "version": "3.9.13"
  }
 },
 "nbformat": 4,
 "nbformat_minor": 1
}
