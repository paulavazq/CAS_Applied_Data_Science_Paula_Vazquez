{
 "cells": [
  {
   "cell_type": "code",
   "execution_count": 27,
   "id": "2244b5eb",
   "metadata": {},
   "outputs": [
    {
     "name": "stdout",
     "output_type": "stream",
     "text": [
      "Enter operation (add/subtract/multiply/divide/exponentiate): exponentiate\n",
      "Enter first number: 2\n",
      "Enter second number: 2\n",
      "2.0 ** 2.0 = 4.0\n"
     ]
    }
   ],
   "source": [
    "\n",
    "def add(x, y):\n",
    "   return x + y\n",
    "\n",
    "def subtract(x, y):\n",
    "   return x - y\n",
    "\n",
    "def multiply(x, y):\n",
    "   return x * y\n",
    "\n",
    "def divide(x, y):\n",
    "   return x / y\n",
    "\n",
    "def exponentiate(x, y):\n",
    "   return x ** y\n",
    "\n",
    "\n",
    "def calculator():   \n",
    "    operation = input(\"Enter operation (add/subtract/multiply/divide/exponentiate): \")\n",
    "    \n",
    "    if operation not in ['add', 'subtract', 'multiply', 'divide', 'exponentiate']:\n",
    "        print(\"Invalid operation\")\n",
    "    else:\n",
    "    \n",
    "        x = float(input(\"Enter first number: \"))\n",
    "        y = float(input(\"Enter second number: \"))\n",
    "\n",
    "    \n",
    "        if operation == \"add\":\n",
    "            result = add(x, y)\n",
    "            print(f\"{x} + {y} = {result}\")\n",
    "        elif operation == \"subtract\":\n",
    "            result = subtract(x, y)\n",
    "            print(f\"{x} - {y} = {result}\")\n",
    "        elif operation == \"multiply\":\n",
    "            result = multiply(x, y)\n",
    "            print(f\"{x} * {y} = {result}\")\n",
    "        elif operation == \"divide\":\n",
    "            if y != 0:\n",
    "                result = divide(x, y)\n",
    "                print(f\"{x} / {y} = {result}\")\n",
    "            else:\n",
    "                return \"Cannot divide by zero.\"\n",
    "     \n",
    "        elif operation == \"exponentiate\":\n",
    "            result = exponentiate(x, y)\n",
    "            print(f\"{x} ** {y} = {result}\")\n",
    "        else:\n",
    "            print(\"selected operation is not known\")\n",
    "\n",
    "calculator()\n",
    "\n",
    "\n",
    "# Task 1: Implement a function for Exponentiation operation, similar to the existing functions above.\n",
    "# Task 2: Create an interactive user input for the calculator, allowing the user to pick an operation and input numbers."
   ]
  },
  {
   "cell_type": "code",
   "execution_count": null,
   "id": "33722ba3",
   "metadata": {},
   "outputs": [],
   "source": []
  },
  {
   "cell_type": "code",
   "execution_count": null,
   "id": "6a36a504",
   "metadata": {},
   "outputs": [],
   "source": [
    "subtract\n"
   ]
  },
  {
   "cell_type": "code",
   "execution_count": null,
   "id": "a6123be2",
   "metadata": {},
   "outputs": [],
   "source": []
  },
  {
   "cell_type": "code",
   "execution_count": null,
   "id": "d44d0251",
   "metadata": {},
   "outputs": [],
   "source": []
  }
 ],
 "metadata": {
  "kernelspec": {
   "display_name": "Python 3 (ipykernel)",
   "language": "python",
   "name": "python3"
  },
  "language_info": {
   "codemirror_mode": {
    "name": "ipython",
    "version": 3
   },
   "file_extension": ".py",
   "mimetype": "text/x-python",
   "name": "python",
   "nbconvert_exporter": "python",
   "pygments_lexer": "ipython3",
   "version": "3.9.13"
  }
 },
 "nbformat": 4,
 "nbformat_minor": 5
}
